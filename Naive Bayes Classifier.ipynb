{
 "cells": [
  {
   "cell_type": "code",
   "execution_count": 35,
   "metadata": {},
   "outputs": [],
   "source": [
    "import math\n",
    "from pathlib import Path\n",
    "import numpy as np\n",
    "import pandas as pd\n",
    "import scipy as sc\n",
    "from scipy.stats import multivariate_normal"
   ]
  },
  {
   "cell_type": "code",
   "execution_count": 36,
   "metadata": {},
   "outputs": [],
   "source": [
    "def read_csv_file_data(path_to_file, filename) -> pd.DataFrame:\n",
    "    \"\"\"Function to read file \"\"\"\n",
    "    data_directory = Path(path_to_file)\n",
    "    file_to_read = data_directory / filename\n",
    "    data_frame_temp = pd.read_csv(file_to_read)\n",
    "    return data_frame_temp"
   ]
  },
  {
   "cell_type": "code",
   "execution_count": 37,
   "metadata": {},
   "outputs": [],
   "source": [
    "def normal_pdf(x, mean, sd):\n",
    "    \"\"\"Calculate the normal distribution\"\"\"\n",
    "    var = float(sd) ** 2\n",
    "    denominator = (2 * math.pi * var) ** .5\n",
    "    num = math.exp(-(float(x) - float(mean)) ** 2 / (2 * var))\n",
    "    return (num / denominator)"
   ]
  },
  {
   "cell_type": "code",
   "execution_count": 38,
   "metadata": {},
   "outputs": [],
   "source": [
    "def calculate_standard_deviation(data_frame_temp: pd.DataFrame, column_count) -> []:\n",
    "    \"\"\"Calculate the standard deviation of database\"\"\"\n",
    "    standard_deviation_array = [0 for i in range(column_count)]\n",
    "    col_counter = 0\n",
    "    for (columnName, columnData) in data_frame_temp.iteritems():\n",
    "        standard_deviation_array[col_counter] = data_frame_temp[columnName].std()\n",
    "        col_counter += 1\n",
    "    return standard_deviation_array"
   ]
  },
  {
   "cell_type": "code",
   "execution_count": 39,
   "metadata": {},
   "outputs": [],
   "source": [
    "def calculate_mean(data_frame_temp: pd.DataFrame, column_count) -> []:\n",
    "    \"\"\"Calculate the mean of database\"\"\"\n",
    "    mean_array_temp = [0 for i in range(column_count)]\n",
    "    col_counter = 0\n",
    "    for (columnName, columnData) in data_frame_temp.iteritems():\n",
    "        mean_array_temp[col_counter] = data_frame_temp[columnName].mean()\n",
    "        col_counter += 1\n",
    "    return mean_array_temp"
   ]
  },
  {
   "cell_type": "code",
   "execution_count": 40,
   "metadata": {},
   "outputs": [],
   "source": [
    "def get_rows_with_category_index_value(data_frame_temp: pd.DataFrame, category_index, category_value):\n",
    "    \"\"\"Differentiate the database on the basis of o and 1\"\"\"\n",
    "    condition_bool = data_frame_temp.iloc[:, category_index] == category_value\n",
    "    result_rows = data_frame_temp[condition_bool]\n",
    "    return result_rows"
   ]
  },
  {
   "cell_type": "code",
   "execution_count": 41,
   "metadata": {},
   "outputs": [],
   "source": [
    "def get_training_data(data_frame_temp: pd.DataFrame, percentage_of_data: float):\n",
    "    \"\"\"This method is used to create traing data from given data frame\"\"\"\n",
    "    result_train_data = data_frame_temp.sample(frac=percentage_of_data)\n",
    "    return result_train_data"
   ]
  },
  {
   "cell_type": "code",
   "execution_count": 42,
   "metadata": {},
   "outputs": [],
   "source": [
    "def calculate_prediction_array(data_frame_temp: pd.DataFrame, mean_zero: [], std_zero: [], mean_one: [], std_one: []):\n",
    "    \"\"\"This method is used to calculate the normal distribution\"\"\"\n",
    "    row_count_temp = data_frame_temp.shape[0]\n",
    "    col_count_temp = data_frame_temp.shape[1]-1 # 8 # can be replaced by std_ or mean array length\n",
    "    result_predict = []\n",
    "\n",
    "    for row_index in range(row_count_temp):\n",
    "        out_come_zero = 1\n",
    "        out_come_one = 1\n",
    "        for col_index in range(col_count_temp):\n",
    "            x = data_frame_temp.iloc[row_index, col_index]\n",
    "        # noramal distrubution for zero\n",
    "            out_come_zero = out_come_zero * normal_pdf(x, mean_zero[col_index], std_zero[col_index])\n",
    "        # noramal distrubution for one\n",
    "            out_come_one = out_come_one * normal_pdf(x, mean_one[col_index], std_one[col_index])\n",
    "        if out_come_zero > out_come_one:\n",
    "            result_predict.append(0)\n",
    "        else:\n",
    "            result_predict.append(1)\n",
    "\n",
    "    return result_predict"
   ]
  },
  {
   "cell_type": "code",
   "execution_count": 43,
   "metadata": {},
   "outputs": [],
   "source": [
    "# To verify the result\n",
    "\n",
    "def calculate_prediction_array02(data_frame_temp: pd.DataFrame, mean_zero: [], std_zero: [], mean_one: [], std_one: []):\n",
    "    row_count_temp = data_frame_temp.shape[0]\n",
    "    col_count_temp = data_frame_temp.shape[1] - 1  # 8 # can be replaced by std_ or mean array length\n",
    "    result_predict = []\n",
    "\n",
    "    for row_index in range(row_count_temp):\n",
    "        out_come_zero = 1\n",
    "        out_come_one = 1\n",
    "        for col_index in range(col_count_temp):\n",
    "            x = data_frame_temp.iloc[row_index, col_index]\n",
    "            # noramal distrubution for zero\n",
    "            out_come_zero = out_come_zero * sc.stats.norm(mean_zero[col_index], std_zero[col_index]).pdf(x)\n",
    "            # noramal distrubution for one\n",
    "            out_come_one = out_come_one * sc.stats.norm(mean_one[col_index], std_one[col_index]).pdf(x)\n",
    "        if out_come_zero > out_come_one:\n",
    "            result_predict.append(0)\n",
    "        else:\n",
    "            result_predict.append(1)\n",
    "\n",
    "    return result_predict"
   ]
  },
  {
   "cell_type": "code",
   "execution_count": 44,
   "metadata": {},
   "outputs": [],
   "source": [
    "def generate_accuracy(actual, predicted):\n",
    "    '''Generate Accuracy of the database'''\n",
    "    data = {'y_Actual': actual,\n",
    "            'y_Predicted': predicted\n",
    "            }\n",
    "    df = pd.DataFrame(data, columns=['y_Actual', 'y_Predicted'])\n",
    "    confusion_matrix01 = pd.crosstab(df['y_Actual'], df['y_Predicted'], rownames=['Actual'], colnames=['Predicted'])\n",
    "    # confusion_matrix02 = ConfusionMatrix(df['y_Actual'], df['y_Predicted'])\n",
    "    # print(confusion_matrix01)\n",
    "    # CM = confusion_matrix(y_true, y_pred)\n",
    "\n",
    "    TN = confusion_matrix01[0][0]\n",
    "    FN = confusion_matrix01[1][0]\n",
    "    TP = confusion_matrix01[1][1]\n",
    "    FP = confusion_matrix01[0][1]\n",
    "    print(\"TN : \", TN)\n",
    "    print(\"FN : \", FN)\n",
    "    print(\"TP : \", TP)\n",
    "    print(\"FP : \", FP)\n",
    "    \n",
    "    specificity=TN/(TN+FP)\n",
    "    \n",
    "    print(\"Confusion Matrix Accuracy : \", (TP + TN) / (TP + FP + TN + FN)*100)\n",
    "    print(\"Error : \", (FN + FP) / (TP + FP + TN + FN))\n",
    "    \n",
    "    print(\"Sensitivity : \",(TP / ( FN + TP ))* 100)\n",
    "    \n",
    "    print(\"Specificity : \",(TN / ( TN + FP ))* 100)\n",
    "    \n",
    "    # confusion_matrix02.print_stats()\n",
    "    # sn.heatmap(confusion_matrix, annot=True)\n",
    "    #     # plt.show()\n",
    "    accurate_matches = 0\n",
    "    for index in range(len(actual)):\n",
    "        if actual[index] == predicted[index]:\n",
    "            accurate_matches += 1\n",
    "    return (accurate_matches/float(len(actual))) * 100.0"
   ]
  },
  {
   "cell_type": "code",
   "execution_count": 45,
   "metadata": {},
   "outputs": [],
   "source": [
    "#Starting Point!\n",
    "# Read the files\n",
    "training_data_frame = read_csv_file_data(\"D:/Subjects/Spring 20/Pattern/Project\", \"train.csv\")\n",
    "testing_data_frame = read_csv_file_data(\"D:/Subjects/Spring 20/Pattern/Project\", \"test.csv\")\n",
    "\n",
    "row_count = training_data_frame.shape[0]\n",
    "col_count = training_data_frame.shape[1]\n",
    "out_come_column_index = 8"
   ]
  },
  {
   "cell_type": "raw",
   "metadata": {},
   "source": [
    "Segrigation of data into 0 and 1 category"
   ]
  },
  {
   "cell_type": "code",
   "execution_count": 46,
   "metadata": {},
   "outputs": [],
   "source": [
    "#train_data_frame = get_training_data(training_data_frame, .30)\n",
    "\n",
    "non_diabetic_data = get_rows_with_category_index_value(training_data_frame, out_come_column_index, 0)\n",
    "diabetic_data = get_rows_with_category_index_value(training_data_frame, out_come_column_index, 1)"
   ]
  },
  {
   "cell_type": "code",
   "execution_count": 47,
   "metadata": {},
   "outputs": [],
   "source": [
    "# Calculate the Standard Deviation and Mean for Non_Diabetic patients\n",
    "\n",
    "std_dev_non_diabetic = calculate_standard_deviation(non_diabetic_data.iloc[:, :-1], col_count-1)\n",
    "mean_array_non_diabetic = calculate_mean(non_diabetic_data.iloc[:, :-1], col_count-1)"
   ]
  },
  {
   "cell_type": "code",
   "execution_count": 48,
   "metadata": {},
   "outputs": [],
   "source": [
    "# Calculate the Standard Deviation and Mean for Diabetic patients\n",
    "\n",
    "std_dev_diabetic = calculate_standard_deviation(diabetic_data.iloc[:, :-1], col_count-1)\n",
    "mean_array_diabetic = calculate_mean(diabetic_data.iloc[:, :-1], col_count-1)"
   ]
  },
  {
   "cell_type": "code",
   "execution_count": 31,
   "metadata": {},
   "outputs": [
    {
     "name": "stdout",
     "output_type": "stream",
     "text": [
      "TN :  119\n",
      "FN :  40\n",
      "TP :  68\n",
      "FP :  26\n",
      "Confusion Matrix Accuracy :  73.91304347826086\n",
      "Error :  0.2608695652173913\n",
      "Sensitivity :  62.96296296296296\n",
      "Specificity :  82.06896551724138\n",
      "Accuracy :  73.91304347826086\n"
     ]
    }
   ],
   "source": [
    "# Calculating the Prediction Array\n",
    "\n",
    "prediction_Array = calculate_prediction_array(testing_data_frame, mean_array_non_diabetic, std_dev_non_diabetic, mean_array_diabetic, std_dev_diabetic)\n",
    "\n",
    "# Calculating the Accuracy Array\n",
    "\n",
    "accuracy = generate_accuracy(actual = testing_data_frame.iloc[:,8].tolist(), predicted = prediction_Array)\n",
    "print(\"Accuracy : \", accuracy)"
   ]
  },
  {
   "cell_type": "code",
   "execution_count": null,
   "metadata": {},
   "outputs": [],
   "source": []
  }
 ],
 "metadata": {
  "kernelspec": {
   "display_name": "Python 3",
   "language": "python",
   "name": "python3"
  },
  "language_info": {
   "codemirror_mode": {
    "name": "ipython",
    "version": 3
   },
   "file_extension": ".py",
   "mimetype": "text/x-python",
   "name": "python",
   "nbconvert_exporter": "python",
   "pygments_lexer": "ipython3",
   "version": "3.7.4"
  }
 },
 "nbformat": 4,
 "nbformat_minor": 2
}
